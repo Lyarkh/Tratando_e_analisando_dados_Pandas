{
 "cells": [
  {
   "cell_type": "code",
   "execution_count": 2,
   "metadata": {},
   "outputs": [
    {
     "name": "stdout",
     "output_type": "stream",
     "text": [
      "Testando kernel env projeto\n"
     ]
    }
   ],
   "source": [
    "print('Testando kernel env projeto')"
   ]
  }
 ],
 "metadata": {
  "interpreter": {
   "hash": "55ff5a3e063da1e67e901da311e0f18d539344bc561109c12a80d43ab6eeb0e4"
  },
  "kernelspec": {
   "display_name": "Python 3 (ipykernel)",
   "language": "python",
   "name": "python3"
  },
  "language_info": {
   "codemirror_mode": {
    "name": "ipython",
    "version": 3
   },
   "file_extension": ".py",
   "mimetype": "text/x-python",
   "name": "python",
   "nbconvert_exporter": "python",
   "pygments_lexer": "ipython3",
   "version": "3.9.6"
  }
 },
 "nbformat": 4,
 "nbformat_minor": 2
}
